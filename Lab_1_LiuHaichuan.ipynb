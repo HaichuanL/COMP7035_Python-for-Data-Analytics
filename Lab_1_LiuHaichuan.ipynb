{
 "cells": [
  {
   "cell_type": "markdown",
   "metadata": {},
   "source": [
    "## Lab Demo COMP7035 Week 1\n",
    "### Objective\n",
    "- Write the code with Jupyter Lab  \n",
    "- Use of the \"print\" command  \n",
    "- Use of the variable  \n",
    "- Use of different operators  \n",
    "- The basic of control statement  \n",
    "\n"
   ]
  },
  {
   "cell_type": "markdown",
   "metadata": {
    "nteract": {
     "transient": {
      "deleting": false
     }
    }
   },
   "source": [
    "### Print a message"
   ]
  },
  {
   "cell_type": "code",
   "execution_count": 2,
   "metadata": {
    "jupyter": {
     "outputs_hidden": false,
     "source_hidden": false
    },
    "nteract": {
     "transient": {
      "deleting": false
     }
    },
    "tags": []
   },
   "outputs": [
    {
     "name": "stdout",
     "output_type": "stream",
     "text": [
      "How you doing?\n"
     ]
    }
   ],
   "source": [
    "print('How you doing?')"
   ]
  },
  {
   "cell_type": "markdown",
   "metadata": {
    "nteract": {
     "transient": {
      "deleting": false
     }
    }
   },
   "source": [
    "### Arithmetic Operators:"
   ]
  },
  {
   "cell_type": "code",
   "execution_count": 15,
   "metadata": {
    "jupyter": {
     "outputs_hidden": false,
     "source_hidden": false
    },
    "nteract": {
     "transient": {
      "deleting": false
     }
    },
    "tags": []
   },
   "outputs": [
    {
     "name": "stdout",
     "output_type": "stream",
     "text": [
      "Sum Operation:\n",
      "The sum of a and b is 924\n"
     ]
    }
   ],
   "source": [
    "print('Sum Operation:')\n",
    "a = 198\n",
    "b = 726\n",
    "print(f'The sum of a and b is {a + b}')"
   ]
  },
  {
   "cell_type": "code",
   "execution_count": 16,
   "metadata": {
    "jupyter": {
     "outputs_hidden": false,
     "source_hidden": false
    },
    "nteract": {
     "transient": {
      "deleting": false
     }
    },
    "tags": []
   },
   "outputs": [
    {
     "name": "stdout",
     "output_type": "stream",
     "text": [
      "Multiplication Operation: a multiply b is 143748\n"
     ]
    }
   ],
   "source": [
    "print('Multiplication Operation: ', end='')\n",
    "a = 198\n",
    "b = 726\n",
    "print(f'a multiply b is {a * b}')"
   ]
  },
  {
   "cell_type": "code",
   "execution_count": 17,
   "metadata": {
    "jupyter": {
     "outputs_hidden": false,
     "source_hidden": false
    },
    "nteract": {
     "transient": {
      "deleting": false
     }
    },
    "tags": []
   },
   "outputs": [
    {
     "name": "stdout",
     "output_type": "stream",
     "text": [
      "Subtraction Operation:\n",
      "\n",
      "a minus b is -528\n"
     ]
    }
   ],
   "source": [
    "print('Subtraction Operation:')\n",
    "a = 198\n",
    "b = 726\n",
    "print(f'\\na minus b is {a - b}')"
   ]
  },
  {
   "cell_type": "markdown",
   "metadata": {
    "nteract": {
     "transient": {
      "deleting": false
     }
    }
   },
   "source": [
    "### Variables:"
   ]
  },
  {
   "cell_type": "code",
   "execution_count": 18,
   "metadata": {
    "jupyter": {
     "outputs_hidden": false,
     "source_hidden": false
    },
    "nteract": {
     "transient": {
      "deleting": false
     }
    },
    "tags": []
   },
   "outputs": [
    {
     "name": "stdout",
     "output_type": "stream",
     "text": [
      "[Continuous Assessment]\n",
      "Someone's score: 44.1\n"
     ]
    }
   ],
   "source": [
    "name = \"Someone\" # text string\n",
    "assignments = 80 # integer number\n",
    "test = 60.5 # float number\n",
    "ca = assignments * 0.4 + test * 0.2\n",
    "print(\"[Continuous Assessment]\")\n",
    "print(name + \"'s score: \", end=\"\")\n",
    "print(ca)"
   ]
  },
  {
   "cell_type": "code",
   "execution_count": null,
   "metadata": {},
   "outputs": [],
   "source": [
    "# Your turn\n",
    "# Try to type the above code and change the value of the variables e.g. name=\"NotMe\"\n"
   ]
  },
  {
   "cell_type": "code",
   "execution_count": 19,
   "metadata": {
    "jupyter": {
     "outputs_hidden": false,
     "source_hidden": false
    },
    "nteract": {
     "transient": {
      "deleting": false
     }
    },
    "tags": []
   },
   "outputs": [
    {
     "name": "stdout",
     "output_type": "stream",
     "text": [
      "Seriously, how to pass this course?\n"
     ]
    }
   ],
   "source": [
    "print(\"Seriously, how to pass this course?\")"
   ]
  },
  {
   "cell_type": "markdown",
   "metadata": {
    "nteract": {
     "transient": {
      "deleting": false
     }
    }
   },
   "source": [
    "### Requirement 1: Exam score has to be not less than 30"
   ]
  },
  {
   "cell_type": "code",
   "execution_count": 31,
   "metadata": {
    "jupyter": {
     "outputs_hidden": false,
     "source_hidden": false
    },
    "nteract": {
     "transient": {
      "deleting": false
     }
    },
    "tags": []
   },
   "outputs": [
    {
     "name": "stdout",
     "output_type": "stream",
     "text": [
      "You fail😭\n"
     ]
    }
   ],
   "source": [
    "exam = 29\n",
    "if exam < 30:\n",
    " print(\"You fail😭\")"
   ]
  },
  {
   "cell_type": "markdown",
   "metadata": {
    "nteract": {
     "transient": {
      "deleting": false
     }
    }
   },
   "source": [
    "### Requirement 2: Overall score has to not less than 35"
   ]
  },
  {
   "cell_type": "code",
   "execution_count": 22,
   "metadata": {
    "jupyter": {
     "outputs_hidden": false,
     "source_hidden": false
    },
    "nteract": {
     "transient": {
      "deleting": false
     }
    },
    "tags": []
   },
   "outputs": [
    {
     "name": "stdout",
     "output_type": "stream",
     "text": [
      "52.1\n",
      "You Pass😁\n"
     ]
    }
   ],
   "source": [
    "assignments = 70 # integer number\n",
    "test = 60.5 # float number\n",
    "exam = 30\n",
    "overall = assignments * 0.4 + test * 0.2 + exam * 0.4\n",
    "print(overall)\n",
    "if overall >= 35:\n",
    " print(\"You Pass😁\")"
   ]
  },
  {
   "cell_type": "code",
   "execution_count": 29,
   "metadata": {
    "jupyter": {
     "outputs_hidden": false,
     "source_hidden": false
    },
    "nteract": {
     "transient": {
      "deleting": false
     }
    },
    "tags": []
   },
   "outputs": [
    {
     "name": "stdout",
     "output_type": "stream",
     "text": [
      "Thanks for your hard work\n"
     ]
    }
   ],
   "source": [
    "assignments = 100 # integer number\n",
    "test = 60.5 # float number\n",
    "exam = 30\n",
    "overall = assignments * 0.4 + test * 0.2 + exam * 0.4\n",
    "if overall < 35:\n",
    " print(\"You fail😭\")\n",
    " print(\"You'll have to retake.\")\n",
    "print(\"Thanks for your hard work\")\n"
   ]
  },
  {
   "cell_type": "markdown",
   "metadata": {
    "nteract": {
     "transient": {
      "deleting": false
     }
    }
   },
   "source": [
    "We can combine them into one statement."
   ]
  },
  {
   "cell_type": "code",
   "execution_count": 24,
   "metadata": {
    "jupyter": {
     "outputs_hidden": false,
     "source_hidden": false
    },
    "nteract": {
     "transient": {
      "deleting": false
     }
    },
    "tags": []
   },
   "outputs": [],
   "source": [
    "if exam < 30 or overall < 35:\n",
    " print(\"You fail😭 🤟 🙉\")"
   ]
  },
  {
   "cell_type": "markdown",
   "metadata": {
    "nteract": {
     "transient": {
      "deleting": false
     }
    }
   },
   "source": [
    "Good news is there're only two passing requirements, so:"
   ]
  },
  {
   "cell_type": "code",
   "execution_count": 25,
   "metadata": {
    "jupyter": {
     "outputs_hidden": false
    },
    "nteract": {
     "transient": {
      "deleting": false
     }
    },
    "tags": []
   },
   "outputs": [
    {
     "name": "stdout",
     "output_type": "stream",
     "text": [
      "You pass😆 \n"
     ]
    }
   ],
   "source": [
    "if exam < 30 or overall < 35:\n",
    " print(\"You fail😭\")\n",
    "else:\n",
    " print(\"You pass😆 \")"
   ]
  },
  {
   "cell_type": "markdown",
   "metadata": {
    "nteract": {
     "transient": {
      "deleting": false
     }
    }
   },
   "source": [
    "You can find more Markdown syntax [here](https://www.markdownguide.org/cheat-sheet/)  \n",
    "You can copy and paste the Emoji from this website [here](https://getemoji.com/)"
   ]
  },
  {
   "cell_type": "markdown",
   "metadata": {
    "tags": []
   },
   "source": [
    "## Exercise  \n",
    "### You can use any Python style or techniques to complete the exercise!"
   ]
  },
  {
   "cell_type": "markdown",
   "metadata": {},
   "source": [
    "Write a Python program to calculate the ROI (Return of investment) with the steps below\n",
    "- Create a variable earning and assign it value to 3765432.\n",
    "- Create the variable invest and assign it value to 1000000.\n",
    "- Create the variable roi and assign the formula  \n",
    "## $roi = \\frac{Earnings - Invest}{Invest}$  \n",
    "You can find more Markdown syntax about writing mathematical expressions [here](https://docs.github.com/en/get-started/writing-on-github/working-with-advanced-formatting/writing-mathematical-expressions)\n",
    "- Display the result\n"
   ]
  },
  {
   "cell_type": "code",
   "execution_count": 7,
   "metadata": {},
   "outputs": [
    {
     "name": "stdout",
     "output_type": "stream",
     "text": [
      "2.765432\n"
     ]
    }
   ],
   "source": [
    "# Please write you code here\n",
    "earning = 3765432\n",
    "invest = 1000000\n",
    "roi = (earning - invest) / invest\n",
    "print(roi)"
   ]
  },
  {
   "cell_type": "markdown",
   "metadata": {},
   "source": [
    "Write a Python program to get the user input as a string and output the result in uppercase, lowercase and title.  \n",
    "You may find the input() function [here](https://www.w3schools.com/python/ref_func_input.asp).  \n",
    "You may also find the String methods [here](https://www.w3schools.com/python/python_ref_string.asp)\n"
   ]
  },
  {
   "cell_type": "code",
   "execution_count": 27,
   "metadata": {},
   "outputs": [
    {
     "name": "stdout",
     "output_type": "stream",
     "text": [
      "The input the string is: MONDAY Tuesday thursday friday\n",
      "result in uppercase: MONDAY TUESDAY THURSDAY FRIDAY\n",
      "result in lowercase: monday tuesday thursday friday\n",
      "result in title: Monday Tuesday Thursday Friday\n"
     ]
    }
   ],
   "source": [
    "# Please write your code here\n",
    "print('The input the string is: ', end='')\n",
    "string = input()\n",
    "print('result in uppercase: ', end='')\n",
    "print(string.upper())\n",
    "print('result in lowercase: ', end='')\n",
    "print(string.lower())\n",
    "print('result in title: ', end='')\n",
    "print(string.title())"
   ]
  },
  {
   "cell_type": "code",
   "execution_count": null,
   "metadata": {},
   "outputs": [],
   "source": []
  }
 ],
 "metadata": {
  "gist_id": "dbb78dff8f6a4ff66120060bcc358f57",
  "kernel_info": {
   "name": "python3"
  },
  "kernelspec": {
   "display_name": "Python 3",
   "language": "python",
   "name": "python3"
  },
  "language_info": {
   "codemirror_mode": {
    "name": "ipython",
    "version": 3
   },
   "file_extension": ".py",
   "mimetype": "text/x-python",
   "name": "python",
   "nbconvert_exporter": "python",
   "pygments_lexer": "ipython3",
   "version": "3.8.8"
  },
  "nteract": {
   "version": "0.28.0"
  }
 },
 "nbformat": 4,
 "nbformat_minor": 4
}
